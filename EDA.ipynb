{
 "cells": [
  {
   "cell_type": "code",
   "execution_count": 2,
   "metadata": {},
   "outputs": [],
   "source": [
    "import numpy as np\n",
    "import pandas as pd\n",
    "from sklearn.model_selection import train_test_split\n",
    "from keras.preprocessing.image import ImageDataGenerator\n",
    "import matplotlib.pyplot as plt\n",
    "from IPython.display import clear_output\n",
    "from keras.callbacks import Callback  \n",
    "from keras.callbacks import ReduceLROnPlateau\n",
    "from keras.datasets import mnist\n",
    "from keras.models import Model, Sequential\n",
    "from keras.layers import Input, Flatten, Dense, BatchNormalization, Activation, Dropout, Conv2D, MaxPooling2D, Reshape, UpSampling2D\n",
    "from keras.optimizers import Adam\n",
    "from tensorflow.keras.utils import img_to_array, load_img"
   ]
  },
  {
   "cell_type": "code",
   "execution_count": 3,
   "metadata": {},
   "outputs": [],
   "source": [
    "class PlotLosses(Callback):\n",
    "    def __init__(self):\n",
    "        self.i = 0\n",
    "        self.x = []\n",
    "        self.losses = []\n",
    "        self.val_losses = []\n",
    "        self.acc = []\n",
    "        self.val_acc = []        \n",
    "        self.logs = []\n",
    "\n",
    "    def on_epoch_end(self, epoch, logs={}):\n",
    "        \n",
    "        self.logs.append(logs)\n",
    "        self.x.append(self.i)\n",
    "        self.losses.append(logs.get('loss'))\n",
    "        self.val_losses.append(logs.get('val_loss'))\n",
    "        \n",
    "        self.acc.append(logs.get('accuracy'))\n",
    "        self.val_acc.append(logs.get('val_accuracy'))\n",
    "        self.i += 1\n",
    "        \n",
    "        clear_output(wait=True)\n",
    "        fig, axes = plt.subplots(1,2,figsize=(8,3))\n",
    "        \n",
    "        axes[0].plot(self.x, self.losses, label=\"Train loss\")\n",
    "        axes[0].plot(self.x, self.val_losses, label=\"Validation loss\")\n",
    "        #axes[0].set_yscale('log')\n",
    "        axes[0].set_xlabel('Number of epochs')\n",
    "        axes[0].set_ylabel('Losses')\n",
    "        axes[0].legend()\n",
    "            \n",
    "        axes[1].plot(self.x, self.acc, label=\"Train accuracy\")\n",
    "        axes[1].plot(self.x, self.val_acc, label=\"Validation accuracy\")\n",
    "        axes[1].set_xlabel('Number of epochs')\n",
    "        axes[1].set_ylabel('Accuracy')\n",
    "        axes[1].legend()\n",
    "        \n",
    "        plt.tight_layout()\n",
    "        plt.show();"
   ]
  },
  {
   "cell_type": "code",
   "execution_count": 4,
   "metadata": {},
   "outputs": [
    {
     "name": "stdout",
     "output_type": "stream",
     "text": [
      "Found 1652 images belonging to 4 classes.\n",
      "Found 411 images belonging to 4 classes.\n"
     ]
    }
   ],
   "source": [
    "train_datagen = ImageDataGenerator(\n",
    "        rescale=1./255,\n",
    "        horizontal_flip=True, vertical_flip=True, validation_split=0.2, rotation_range=360.)\n",
    "\n",
    "train_generator = train_datagen.flow_from_directory(\n",
    "    directory='images',\n",
    "    class_mode='categorical',\n",
    "    batch_size=32,\n",
    "    target_size=(32, 32),\n",
    "    subset='training'\n",
    ")\n",
    "\n",
    "val_generator = train_datagen.flow_from_directory(\n",
    "    directory='images',\n",
    "    class_mode='categorical',\n",
    "    batch_size=32,\n",
    "    target_size=(32, 32),\n",
    "    subset='validation'\n",
    ")"
   ]
  },
  {
   "cell_type": "code",
   "execution_count": 5,
   "metadata": {},
   "outputs": [
    {
     "name": "stdout",
     "output_type": "stream",
     "text": [
      "<class 'pandas.core.frame.DataFrame'>\n",
      "RangeIndex: 2063 entries, 0 to 2062\n",
      "Data columns (total 14 columns):\n",
      " #   Column          Non-Null Count  Dtype  \n",
      "---  ------          --------------  -----  \n",
      " 0   id              2063 non-null   int64  \n",
      " 1   gal_type        2063 non-null   int64  \n",
      " 2   ra              2063 non-null   float64\n",
      " 3   dec             2063 non-null   float64\n",
      " 4   redshift        2063 non-null   float64\n",
      " 5   log_luminosity  2063 non-null   float64\n",
      " 6   color           2063 non-null   float64\n",
      " 7   radius          2063 non-null   float64\n",
      " 8   b_over_a        2063 non-null   float64\n",
      " 9   pos_angle       2063 non-null   float64\n",
      " 10  bulge_fract     2063 non-null   float64\n",
      " 11  sersic_n        2063 non-null   float64\n",
      " 12  r_bulge         2063 non-null   float64\n",
      " 13  r_disk          2063 non-null   float64\n",
      "dtypes: float64(12), int64(2)\n",
      "memory usage: 225.8 KB\n"
     ]
    }
   ],
   "source": [
    "with open('training_galaxies.dat') as f:\n",
    "    names = f.readline().rstrip().strip(\"#\").split()\n",
    "    df = pd.read_csv(f, sep=r'\\s+', names=names)\n",
    "df.info()\n",
    "\n",
    "gal_type = df['gal_type']\n",
    "df = df.drop('gal_type', axis=1)"
   ]
  },
  {
   "cell_type": "code",
   "execution_count": 8,
   "metadata": {},
   "outputs": [],
   "source": [
    "def train_cnn(train_generator, val_generator):\n",
    "    plot_losses = PlotLosses()\n",
    "    x = Input(shape=(32,32,3))\n",
    "    h = Conv2D(filters = 128, kernel_size=(2,2), activation='relu')(x)\n",
    "    h = Conv2D(filters = 64, kernel_size=(3,3), activation='relu')(h)\n",
    "    h = Dropout(rate = 0.1)(h)\n",
    "    h = MaxPooling2D((2,2))(h)\n",
    "    h = Conv2D(filters = 64, kernel_size=(4,4), activation='relu')(h)\n",
    "    h = Conv2D(filters=32,kernel_size=(4,4), activation='relu')(h)\n",
    "    h = Flatten()(h)\n",
    "    h = Dropout(rate = 0.1)(h)\n",
    "    h = Dense(128,activation='relu')(h)\n",
    "    h = Dense(64,activation='relu')(h)\n",
    "    h = Dense(32,activation='relu')(h)\n",
    "    y = Dense(4,activation='softmax')(h)\n",
    "    model = Model(x,y)\n",
    "    model.compile(optimizer=Adam(learning_rate=0.003), loss='categorical_crossentropy', metrics =['accuracy'])\n",
    "    model.fit(train_generator, validation_data=val_generator, epochs = 40, \n",
    "              callbacks=[plot_losses])\n",
    "    return model\n",
    "\n",
    "def cnn_predict(cnn, images):\n",
    "    images /= 255.\n",
    "    pred = cnn.predict(images)\n",
    "    gal_predictions = []\n",
    "    for i in pred:\n",
    "        category = np.argmax(i) + 1\n",
    "        gal_predictions.append(category)\n",
    "        \n",
    "    return np.asarray(gal_predictions)"
   ]
  },
  {
   "cell_type": "code",
   "execution_count": 9,
   "metadata": {},
   "outputs": [
    {
     "data": {
      "image/png": "[encoded data removed]",
      "text/plain": [
       "<Figure size 576x216 with 2 Axes>"
      ]
     },
     "metadata": {
      "needs_background": "light"
     },
     "output_type": "display_data"
    },
    {
     "name": "stdout",
     "output_type": "stream",
     "text": [
      "52/52 [==============================] - 10s 190ms/step - loss: 0.5784 - accuracy: 0.7542 - val_loss: 0.5943 - val_accuracy: 0.7591\n",
      "33/33 [==============================] - 1s 35ms/step\n",
      "Num correct =  798\n",
      "Num total =  1032\n",
      "Fraction correct =  0.7732558139534884\n"
     ]
    }
   ],
   "source": [
    "X_train, X_test, Y_train, Y_test = train_test_split(df, gal_type, test_size = 0.5, random_state=1234)\n",
    "\n",
    "cnn = train_cnn(train_generator, val_generator)\n",
    "\n",
    "test_images = np.array([img_to_array(load_img('images/{}/{}.jpg'.format(gt, ID), target_size=(32,32))) \n",
    "                        for gt,ID in zip(Y_test, X_test['id'])])\n",
    "\n",
    "Y_pred = cnn_predict(cnn, test_images)\n",
    "\n",
    "print('Num correct = ',np.sum(Y_pred == Y_test))\n",
    "print('Num total = ',len(Y_test))\n",
    "print('Fraction correct = ',np.sum(Y_pred == Y_test) / len(Y_test))\n"
   ]
  }
 ],
 "metadata": {
  "kernelspec": {
   "display_name": "Python 3.7.13 ('galaxyclassifier')",
   "language": "python",
   "name": "python3"
  },
  "language_info": {
   "codemirror_mode": {
    "name": "ipython",
    "version": 3
   },
   "file_extension": ".py",
   "mimetype": "text/x-python",
   "name": "python",
   "nbconvert_exporter": "python",
   "pygments_lexer": "ipython3",
   "version": "3.7.13"
  },
  "orig_nbformat": 4,
  "vscode": {
   "interpreter": {
    "hash": "1907c851d818ff49ed7a98820ed5a280bcf63ed3f3850af5cb416200b612c79f"
   }
  }
 },
 "nbformat": 4,
 "nbformat_minor": 2
}
